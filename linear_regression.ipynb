{
 "cells": [
  {
   "cell_type": "code",
   "execution_count": 1,
   "metadata": {},
   "outputs": [],
   "source": [
    "import pandas as pd"
   ]
  },
  {
   "cell_type": "code",
   "execution_count": null,
   "metadata": {},
   "outputs": [],
   "source": [
    "# READ IN THE DATA\n",
    "\n",
    "data = pd.read_csv(\"NJ_Precipitation.csv\", index_col=0)\n",
    "\n",
    "# Fill in any missing values in the data with past values\n",
    "\n",
    "data = data.ffill()\n",
    "\n",
    "data.head()"
   ]
  },
  {
   "cell_type": "code",
   "execution_count": null,
   "metadata": {},
   "outputs": [],
   "source": [
    "# LINEAR REGRESSION INTUITION\n",
    "\n",
    "#In our data, each row is a different day, and the columns are different weather observations associated with that day. We have \n",
    "# data from 1895 to the present.\n",
    "\n",
    "# Using the data above, we could predict PRECIPITATION based on Palmer Z-index, Rank, and the Anomaly. \n",
    "# Linear regression requires a linear relationship between the predictors and the target. \n",
    "# If two values have a linear relationship, when one value changes, the other value changes proportionally. We can visualize this \n",
    "# with a scatter plot:"
   ]
  },
  {
   "cell_type": "code",
   "execution_count": null,
   "metadata": {},
   "outputs": [],
   "source": [
    "data.plot.scatter(\"palmer z-index\", \"precipitation\")"
   ]
  },
  {
   "cell_type": "code",
   "execution_count": null,
   "metadata": {},
   "outputs": [],
   "source": [
    "import matplotlib.pyplot as plt\n",
    "data.plot.scatter(\"palmer z-index\", \"precipitation\")\n",
    "\n",
    "plt.plot([-4,3], [0,20], 'green')"
   ]
  },
  {
   "cell_type": "code",
   "execution_count": 13,
   "metadata": {},
   "outputs": [],
   "source": [
    "from sklearn.linear_model import LinearRegression\n",
    "import matplotlib.pyplot as plt"
   ]
  },
  {
   "cell_type": "code",
   "execution_count": null,
   "metadata": {},
   "outputs": [],
   "source": [
    "# Fit a linear regression model\n",
    "lr = LinearRegression()\n",
    "lr.fit(data[[\"palmer z-index\"]], data[\"precipitation\"])"
   ]
  },
  {
   "cell_type": "code",
   "execution_count": null,
   "metadata": {},
   "outputs": [],
   "source": [
    "# Plot our data points and the regression line\n",
    "data.plot.scatter(\"palmer z-index\", \"precipitation\")\n",
    "plt.plot(data[\"palmer z-index\"], lr.predict(data[[\"palmer z-index\"]]), color=\"green\")"
   ]
  },
  {
   "cell_type": "code",
   "execution_count": null,
   "metadata": {},
   "outputs": [],
   "source": [
    "# In the above cell, we fit a linear regression model using a library called scikit-learn. The data points are in blue, \n",
    "# and the linear regression line (predicted temperatures) is in green.\n",
    "\n"
   ]
  },
  {
   "cell_type": "code",
   "execution_count": null,
   "metadata": {},
   "outputs": [],
   "source": [
    "# We can take a look at the coefficients for the line below: these coefficients will be used in our Dense Networks page"
   ]
  },
  {
   "cell_type": "code",
   "execution_count": null,
   "metadata": {},
   "outputs": [],
   "source": [
    "print(f\"Weight: {lr.coef_[0]:.2f}\")\n",
    "print(f\"Bias: {lr.intercept_:.2f}\")"
   ]
  },
  {
   "cell_type": "code",
   "execution_count": null,
   "metadata": {},
   "outputs": [],
   "source": [
    "# Our W1 coefficient will be 2.36\n",
    "# Our bias coefficient will be 10.79"
   ]
  }
 ],
 "metadata": {
  "kernelspec": {
   "display_name": "Python 3",
   "language": "python",
   "name": "python3"
  },
  "language_info": {
   "codemirror_mode": {
    "name": "ipython",
    "version": 3
   },
   "file_extension": ".py",
   "mimetype": "text/x-python",
   "name": "python",
   "nbconvert_exporter": "python",
   "pygments_lexer": "ipython3",
   "version": "3.12.2"
  }
 },
 "nbformat": 4,
 "nbformat_minor": 2
}
